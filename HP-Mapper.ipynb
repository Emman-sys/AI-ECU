{
 "cells": [
  {
   "cell_type": "code",
   "execution_count": null,
   "id": "3a18cf6f",
   "metadata": {},
   "outputs": [
    {
     "data": {
      "application/vnd.jupyter.widget-view+json": {
       "model_id": "407fb4604d3340c599c22e6dbf79c96d",
       "version_major": 2,
       "version_minor": 0
      },
      "text/plain": [
       "VBox(children=(IntSlider(value=6000, description='RPM', max=10000, min=2000, step=500), FloatSlider(value=13.5…"
      ]
     },
     "metadata": {},
     "output_type": "display_data"
    },
    {
     "data": {
      "application/vnd.jupyter.widget-view+json": {
       "model_id": "bfa7287a1ca04dabbc61575501dad74f",
       "version_major": 2,
       "version_minor": 0
      },
      "text/plain": [
       "Output()"
      ]
     },
     "metadata": {},
     "output_type": "display_data"
    }
   ],
   "source": [
    "# STEP 1: Imports\n",
    "import pandas as pd\n",
    "import matplotlib.pyplot as plt\n",
    "# from google.colab import files  # removed\n",
    "import ipywidgets as widgets\n",
    "from IPython.display import display\n",
    "\n",
    "# STEP 2: (Optional) Load a CSV from disk if you actually need it\n",
    "# Replace 'your.csv' with a real path or remove this entirely if unused\n",
    "# try:\n",
    "#     df = pd.read_csv('your.csv')\n",
    "#     print('Loaded CSV with shape:', df.shape)\n",
    "# except Exception as e:\n",
    "#     print('No CSV loaded:', e)\n",
    "\n",
    "# STEP 3: Realistic power curve estimation function (based on real dyno data)\n",
    "def estimate_hp(rpm):\n",
    "    # CRF250L power peaks around 24 HP at 8500 RPM\n",
    "    if rpm < 2000:\n",
    "        return 2 + 0.005 * (rpm - 1000)\n",
    "    elif rpm < 8500:\n",
    "        return 2 + (rpm - 2000) * (22 / 6500)\n",
    "    elif rpm <= 10000:\n",
    "        return 24 - (rpm - 8500) * 0.008\n",
    "    else:\n",
    "        return 15\n",
    "\n",
    "# STEP 4: Define sliders\n",
    "rpm_slider = widgets.IntSlider(value=6000, min=2000, max=10000, step=500, description='RPM')\n",
    "afr_slider = widgets.FloatSlider(value=13.5, min=10, max=16, step=0.1, description='AFR')\n",
    "ignition_slider = widgets.FloatSlider(value=15.0, min=0, max=40, step=1.0, description='Ign° BTDC')\n",
    "fuel_slider = widgets.FloatSlider(value=2.0, min=1.0, max=5.0, step=0.1, description='Fuel (ms)')\n",
    "throttle_slider = widgets.IntSlider(value=50, min=0, max=100, step=5, description='Throttle %')\n",
    "\n",
    "# STEP 5: Function to display outputs\n",
    "def update_plot(rpm, afr, ignition, fuel, throttle):\n",
    "    # Estimate HP\n",
    "    base_hp = estimate_hp(rpm)\n",
    "\n",
    "    # Adjust HP based on AFR: peak efficiency around 13.0–13.5\n",
    "    afr_factor = 1.0 - abs(afr - 13.2) * 0.03\n",
    "\n",
    "    # Ignition effect: peak between 12–18 degrees\n",
    "    ign_factor = 1.0 - abs(ignition - 15) * 0.02\n",
    "\n",
    "    # Throttle effect\n",
    "    throttle_factor = throttle / 100.0\n",
    "\n",
    "    # Final estimated HP\n",
    "    estimated_hp = base_hp * afr_factor * ign_factor * throttle_factor\n",
    "\n",
    "    # Plot\n",
    "    plt.figure(figsize=(8,5))\n",
    "    plt.bar(['Estimated HP'], [estimated_hp], color='orange')\n",
    "    plt.ylim(0, 30)\n",
    "    plt.title(f\"Estimated Horsepower @ {rpm} RPM\")\n",
    "    plt.grid(True)\n",
    "    plt.show()\n",
    "\n",
    "    print(f\"Approx HP: {estimated_hp:.2f} HP\\n[Base: {base_hp:.2f} HP | AFR Factor: {afr_factor:.2f} | Ignition Factor: {ign_factor:.2f} | Throttle: {throttle}%]\")\n",
    "\n",
    "# STEP 6: Display interactive sliders (VS Code friendly)\n",
    "ui = widgets.VBox([rpm_slider, afr_slider, ignition_slider, fuel_slider, throttle_slider])\n",
    "out = widgets.interactive_output(\n",
    "    update_plot,\n",
    "    dict(rpm=rpm_slider, afr=afr_slider, ignition=ignition_slider, fuel=fuel_slider, throttle=throttle_slider),\n",
    ")\n",
    "display(ui, out)"
   ]
  },
  {
   "cell_type": "code",
   "execution_count": 2,
   "id": "d27f3ff5",
   "metadata": {},
   "outputs": [
    {
     "name": "stdout",
     "output_type": "stream",
     "text": [
      "Path to dataset files: /workspaces/AI-ECU/dataset\n"
     ]
    }
   ],
   "source": [
    "import os\n",
    "import shutil\n",
    "import kagglehub\n",
    "\n",
    "try:\n",
    "    src = kagglehub.dataset_download(\"yashdevladdha/uber-ride-analytics-dashboard\")\n",
    "    dst = \"/workspaces/AI-ECU/dataset\"\n",
    "    os.makedirs(dst, exist_ok=True)\n",
    "\n",
    "    for name in os.listdir(src):\n",
    "        s = os.path.join(src, name)\n",
    "        d = os.path.join(dst, name)\n",
    "        if os.path.isdir(s):\n",
    "            shutil.copytree(s, d, dirs_exist_ok=True)\n",
    "        else:\n",
    "            shutil.copy2(s, d)\n",
    "\n",
    "    print(\"Path to dataset files:\", dst)\n",
    "except Exception as e:\n",
    "    print(\"Failed to download dataset:\", e)"
   ]
  }
 ],
 "metadata": {
  "kernelspec": {
   "display_name": "Python 3",
   "language": "python",
   "name": "python3"
  },
  "language_info": {
   "codemirror_mode": {
    "name": "ipython",
    "version": 3
   },
   "file_extension": ".py",
   "mimetype": "text/x-python",
   "name": "python",
   "nbconvert_exporter": "python",
   "pygments_lexer": "ipython3",
   "version": "3.12.1"
  }
 },
 "nbformat": 4,
 "nbformat_minor": 5
}
